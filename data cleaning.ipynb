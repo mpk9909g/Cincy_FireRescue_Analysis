{
 "cells": [
  {
   "cell_type": "markdown",
   "id": "7d3f1aa1",
   "metadata": {},
   "source": [
    " ## Project 2\n",
    " ### Team:4\n",
    "    \n",
    "    Anji Asthana\n",
    "    Eugene Witherspoon\n",
    "    Fatma Butun\n",
    "    Matt Keeley\n",
    "    Shay Masood\n",
    "\n",
    "\n",
    " "
   ]
  },
  {
   "cell_type": "markdown",
   "id": "7f04a9a7",
   "metadata": {},
   "source": [
    "## Overview "
   ]
  },
  {
   "cell_type": "markdown",
   "id": "94f670a3",
   "metadata": {},
   "source": [
    "####  The purpose of this project is to examine the distribution of fire and rescue incident calls across different neighborhoods in Cincinnati, OH and inform residents about the fire department’s performance, including: \n",
    "#####   a. Ambulance headquarters placement \n",
    "#####   b. Fire hydrant pressure adjustments\n",
    "#####   c. Allocation of fire fighter/rescue resources\n",
    "#####   d. Helping high-risk citizens stay informed about response time\n",
    "#####   e. Serve as a resource for fire department managers/administration\n"
   ]
  },
  {
   "cell_type": "code",
   "execution_count": null,
   "id": "ef952a5e",
   "metadata": {},
   "outputs": [],
   "source": [
    "import pandas as pd\n",
    "from datetime import datetime\n",
    "from sqlalchemy import create_engine\n",
    "\n"
   ]
  },
  {
   "cell_type": "markdown",
   "id": "1e5768b6",
   "metadata": {},
   "source": [
    "## Extract the Data \n",
    "\n",
    "### This part is using the original data source to obtain a file that is smaller in size \n",
    "\n",
    "### The code here is commented out because the original file is not available on github"
   ]
  },
  {
   "cell_type": "code",
   "execution_count": null,
   "id": "cc0ba490",
   "metadata": {},
   "outputs": [],
   "source": [
    "# # read the csv into a dataframe\n",
    "# cincinnati_fire = pd.read_csv(\"Cincinnati_Fire_Incidents__CAD___including_EMS__ALS_BLS_.csv\")"
   ]
  },
  {
   "cell_type": "code",
   "execution_count": null,
   "id": "dacca377",
   "metadata": {},
   "outputs": [],
   "source": [
    "# cincinnati_fire.tail()"
   ]
  },
  {
   "cell_type": "code",
   "execution_count": null,
   "id": "352e004b",
   "metadata": {},
   "outputs": [],
   "source": [
    "# # Check out how many rows and columns are in the dataframe\n",
    "\n",
    "# cincinnati_fire.shape"
   ]
  },
  {
   "cell_type": "markdown",
   "id": "b36ee62c",
   "metadata": {},
   "source": [
    "## Transform and Clean the Data"
   ]
  },
  {
   "cell_type": "markdown",
   "id": "9be14b5a",
   "metadata": {},
   "source": [
    "### Reduce the original Data"
   ]
  },
  {
   "cell_type": "code",
   "execution_count": null,
   "id": "3d6d0e83",
   "metadata": {},
   "outputs": [],
   "source": [
    "# # check the column types\n",
    "# cincinnati_fire.dtypes"
   ]
  },
  {
   "cell_type": "code",
   "execution_count": null,
   "id": "2e4a58b0",
   "metadata": {},
   "outputs": [],
   "source": [
    "# # Change the CREATE_TIME_INCIDENT  column into datetime64 in order to do further analysis\n",
    "\n",
    "# cincinnati_fire[\"CREATE_TIME_INCIDENT\"] = pd.to_datetime(cincinnati_fire[\"CREATE_TIME_INCIDENT\"])\n"
   ]
  },
  {
   "cell_type": "code",
   "execution_count": null,
   "id": "46ef62bc",
   "metadata": {},
   "outputs": [],
   "source": [
    "# # check out the types of the columns to see if the transformation has worked\n",
    "# cincinnati_fire.dtypes"
   ]
  },
  {
   "cell_type": "code",
   "execution_count": null,
   "id": "600cc652",
   "metadata": {},
   "outputs": [],
   "source": [
    "# # remove the rows with incidents before the year 2019\n",
    "\n",
    "# cincinnati_filtered_df = cincinnati_fire.loc[(cincinnati_fire['CREATE_TIME_INCIDENT'] >= '01/01/2019')]\n",
    "# cincinnati_filtered_df.shape  "
   ]
  },
  {
   "cell_type": "code",
   "execution_count": null,
   "id": "e4c35641",
   "metadata": {},
   "outputs": [],
   "source": [
    "# # save the filtered dataframe and use this as your source data\n",
    "\n",
    "# cincinnati_filtered_df.to_csv('cincinnati_filtered_df.csv', index=False)"
   ]
  },
  {
   "cell_type": "markdown",
   "id": "e6bde08c",
   "metadata": {},
   "source": [
    "## Load the filtered data for the analysis\n"
   ]
  },
  {
   "cell_type": "code",
   "execution_count": null,
   "id": "6e8cdca2",
   "metadata": {},
   "outputs": [],
   "source": [
    "# read the csv into a df\n",
    "\n",
    "cincinnati_fire_filtered = pd.read_csv(\"cincinnati_filtered_df.csv\")"
   ]
  },
  {
   "cell_type": "code",
   "execution_count": null,
   "id": "347ae8c9",
   "metadata": {},
   "outputs": [],
   "source": [
    "# Change the CREATE_TIME_INCIDENT  column into datetime64 in order to do further analysis\n",
    "\n",
    "cincinnati_fire_filtered[\"CREATE_TIME_INCIDENT\"] = pd.to_datetime(cincinnati_fire_filtered[\"CREATE_TIME_INCIDENT\"])"
   ]
  },
  {
   "cell_type": "code",
   "execution_count": null,
   "id": "ceea40b4",
   "metadata": {},
   "outputs": [],
   "source": [
    "# Change the ARRIVAL_TIME_PRIMARY_UNIT column into datetime64 in order to do further analysis\n",
    "\n",
    "cincinnati_fire_filtered[\"ARRIVAL_TIME_PRIMARY_UNIT\"] = pd.to_datetime(cincinnati_fire_filtered[\"ARRIVAL_TIME_PRIMARY_UNIT\"])"
   ]
  },
  {
   "cell_type": "code",
   "execution_count": null,
   "id": "0a73c17c",
   "metadata": {},
   "outputs": [],
   "source": [
    "# Change the CLOSED_TIME_INCIDENT column into datetime64 in order to do further analysis\n",
    "\n",
    "cincinnati_fire_filtered[\"CLOSED_TIME_INCIDENT\"] = pd.to_datetime(cincinnati_fire_filtered[\"CLOSED_TIME_INCIDENT\"])\n",
    "cincinnati_fire_filtered.dtypes"
   ]
  },
  {
   "cell_type": "code",
   "execution_count": null,
   "id": "6cbddd7c",
   "metadata": {},
   "outputs": [],
   "source": [
    "# remove rows with at least 1 NaN\n",
    "\n",
    "cincinnati_fire_filtered = cincinnati_fire_filtered.dropna()\n",
    "cincinnati_fire_filtered.shape"
   ]
  },
  {
   "cell_type": "code",
   "execution_count": null,
   "id": "6b72ed05",
   "metadata": {},
   "outputs": [],
   "source": [
    "# Calculate the duration for the arrival after the incident was reported\n",
    "\n",
    "cincinnati_fire_filtered[\"ARRIVAL_DURATION\"] = (cincinnati_fire_filtered[\"ARRIVAL_TIME_PRIMARY_UNIT\"] - cincinnati_fire_filtered[\"CREATE_TIME_INCIDENT\"]).astype('timedelta64[m]')\n",
    "\n"
   ]
  },
  {
   "cell_type": "code",
   "execution_count": null,
   "id": "18004cc2",
   "metadata": {},
   "outputs": [],
   "source": [
    "# Calculate the duration for closing the incident after the incident was reported\n",
    "\n",
    "cincinnati_fire_filtered[\"CLOSING_DURATION\"] = (cincinnati_fire_filtered[\"CLOSED_TIME_INCIDENT\"] - cincinnati_fire_filtered[\"CREATE_TIME_INCIDENT\"]).astype('timedelta64[m]')\n",
    "\n"
   ]
  },
  {
   "cell_type": "code",
   "execution_count": null,
   "id": "c32e2c8f",
   "metadata": {},
   "outputs": [],
   "source": [
    "# cincinnati_fire_filtered.head()"
   ]
  },
  {
   "cell_type": "code",
   "execution_count": null,
   "id": "d44f18fb",
   "metadata": {},
   "outputs": [],
   "source": [
    "# dropdupliacte rows\n",
    "cincinnati_fire_filtered = cincinnati_fire_filtered.drop_duplicates()\n",
    "cincinnati_fire_filtered.shape"
   ]
  },
  {
   "cell_type": "code",
   "execution_count": null,
   "id": "8e70370f",
   "metadata": {},
   "outputs": [],
   "source": [
    "# prepare 3 new dataframes with the required columns only \n",
    "    \n",
    "# 1-prepare an incidents vs neighborhood df\n",
    "    \n",
    "neighborhood_incidents = cincinnati_fire_filtered [[\"EVENT_NUMBER\", \"NEIGHBORHOOD\", \"LATITUDE_X\", \"LONGITUDE_X\", \"INCIDENT_TYPE_DESC\"]]\n",
    "neighborhood_incidents.head()"
   ]
  },
  {
   "cell_type": "code",
   "execution_count": null,
   "id": "78c6272b",
   "metadata": {},
   "outputs": [],
   "source": [
    "# 2- prepare an incidents vs arrival time df\n",
    "\n",
    "incidents_time_duration = cincinnati_fire_filtered [[\"EVENT_NUMBER\", \"ARRIVAL_DURATION\", \"CREATE_TIME_INCIDENT\", \"NEIGHBORHOOD\", \"INCIDENT_TYPE_DESC\"]]\n",
    "incidents_time_duration.head(15)"
   ]
  },
  {
   "cell_type": "code",
   "execution_count": null,
   "id": "a97b4df8",
   "metadata": {},
   "outputs": [],
   "source": [
    "# 3- prepare a grouped neighborhood dataframe\n",
    "\n",
    "neighborhood_incidents[\"NEIGHBORHOOD\"].unique()\n",
    "neighborhood_incidents_grouped = neighborhood_incidents.groupby([\"NEIGHBORHOOD\", \"INCIDENT_TYPE_DESC\"]).size().reset_index(name='counts')\n",
    "neighborhood_incidents_grouped.head(15)"
   ]
  },
  {
   "cell_type": "code",
   "execution_count": null,
   "id": "9561be09",
   "metadata": {},
   "outputs": [],
   "source": [
    "# put similar incidents under the same incident type description. \n",
    "\n",
    "# what can we put together?"
   ]
  },
  {
   "cell_type": "code",
   "execution_count": null,
   "id": "a8a6ad44",
   "metadata": {},
   "outputs": [],
   "source": []
  },
  {
   "cell_type": "markdown",
   "id": "f6efb21d",
   "metadata": {},
   "source": [
    "## Create Connection to SQL database and load the tables"
   ]
  },
  {
   "cell_type": "code",
   "execution_count": null,
   "id": "f25b2f93",
   "metadata": {},
   "outputs": [],
   "source": [
    "# create a connection string to postgres\n",
    "connection_string = \"postgres:bootcamp@localhost:5432/cincinnatifire\"\n",
    "engine = create_engine(f'postgresql://{connection_string}')"
   ]
  },
  {
   "cell_type": "code",
   "execution_count": null,
   "id": "120fec1f",
   "metadata": {},
   "outputs": [],
   "source": [
    "# check the tables in the cincinnatifire database\n",
    "engine.table_names()"
   ]
  },
  {
   "cell_type": "code",
   "execution_count": null,
   "id": "d0b677ba",
   "metadata": {},
   "outputs": [],
   "source": [
    "# Insert df data to the tables\n",
    "neighborhood_incidents.to_sql(name='neighborhood_incidents', con=engine, if_exists='append', index=False)\n",
    "\n"
   ]
  },
  {
   "cell_type": "code",
   "execution_count": null,
   "id": "f4e58778",
   "metadata": {},
   "outputs": [],
   "source": [
    "incidents_time_duration.to_sql(name='incidents_time_duration', con=engine, if_exists='append', index=False)"
   ]
  },
  {
   "cell_type": "code",
   "execution_count": null,
   "id": "4cf2d875",
   "metadata": {},
   "outputs": [],
   "source": [
    "neighborhood_incidents_grouped.to_sql(name='neighborhood_incidents_grouped', con=engine, if_exists='append', index=False)"
   ]
  },
  {
   "cell_type": "code",
   "execution_count": null,
   "id": "2b7f1cc6",
   "metadata": {},
   "outputs": [],
   "source": [
    "# check if the tables are correctly loaded into the database\n",
    "\n",
    "pd.read_sql_query('select * from incidents_time_duration', con=engine).head()"
   ]
  },
  {
   "cell_type": "code",
   "execution_count": null,
   "id": "5137c9ee",
   "metadata": {},
   "outputs": [],
   "source": []
  }
 ],
 "metadata": {
  "kernelspec": {
   "display_name": "Python 3",
   "language": "python",
   "name": "python3"
  },
  "language_info": {
   "codemirror_mode": {
    "name": "ipython",
    "version": 3
   },
   "file_extension": ".py",
   "mimetype": "text/x-python",
   "name": "python",
   "nbconvert_exporter": "python",
   "pygments_lexer": "ipython3",
   "version": "3.8.8"
  }
 },
 "nbformat": 4,
 "nbformat_minor": 5
}
