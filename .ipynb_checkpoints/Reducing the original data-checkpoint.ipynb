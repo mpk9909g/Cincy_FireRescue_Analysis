{
 "cells": [
  {
   "cell_type": "code",
   "execution_count": null,
   "id": "30ec657e",
   "metadata": {},
   "outputs": [],
   "source": [
    "import pandas as pd\n",
    "from datetime import datetime"
   ]
  },
  {
   "cell_type": "code",
   "execution_count": null,
   "id": "28da5d18",
   "metadata": {},
   "outputs": [],
   "source": [
    "## Extract the Data"
   ]
  },
  {
   "cell_type": "code",
   "execution_count": null,
   "id": "ec7a20f0",
   "metadata": {},
   "outputs": [],
   "source": [
    "# read the csv into a dataframe\n",
    "cincinnati_fire = pd.read_csv(\"Cincinnati_Fire_Incidents__CAD___including_EMS__ALS_BLS_.csv\")\n",
    "cincinnati_fire.head()"
   ]
  },
  {
   "cell_type": "code",
   "execution_count": null,
   "id": "3f7a07f8",
   "metadata": {},
   "outputs": [],
   "source": [
    "# Check out how many rows and columns are in the dataframe\n",
    "\n",
    "cincinnati_fire.shape"
   ]
  },
  {
   "cell_type": "code",
   "execution_count": null,
   "id": "3bb5531e",
   "metadata": {},
   "outputs": [],
   "source": [
    "### Reduce the original Data¶"
   ]
  },
  {
   "cell_type": "code",
   "execution_count": null,
   "id": "71312b3b",
   "metadata": {},
   "outputs": [],
   "source": [
    "# check the column types\n",
    "cincinnati_fire.dtypes"
   ]
  },
  {
   "cell_type": "code",
   "execution_count": null,
   "id": "7aab9d0d",
   "metadata": {},
   "outputs": [],
   "source": [
    "# Change the CREATE_TIME_INCIDENT  column into datetime64 in order to do further analysis\n",
    "\n",
    "cincinnati_fire[\"CREATE_TIME_INCIDENT\"] = pd.to_datetime(cincinnati_fire[\"CREATE_TIME_INCIDENT\"])"
   ]
  },
  {
   "cell_type": "code",
   "execution_count": null,
   "id": "5a684d5c",
   "metadata": {},
   "outputs": [],
   "source": [
    "# check out the types of the columns to see if the transformation has worked\n",
    "cincinnati_fire.dtypes"
   ]
  },
  {
   "cell_type": "code",
   "execution_count": null,
   "id": "13a6a580",
   "metadata": {},
   "outputs": [],
   "source": [
    "# remove the rows with incidents before the year 2019\n",
    "\n",
    "cincinnati_filtered_df = cincinnati_fire.loc[(cincinnati_fire['CREATE_TIME_INCIDENT'] >= '01/01/2019')]\n",
    "cincinnati_filtered_df.shape    "
   ]
  },
  {
   "cell_type": "code",
   "execution_count": null,
   "id": "3d195f3f",
   "metadata": {},
   "outputs": [],
   "source": [
    "# save the filtered dataframe and use this as your source data\n",
    "\n",
    "cincinnati_filtered_df.to_csv('cincinnati_filtered_df.csv', index=False)"
   ]
  },
  {
   "cell_type": "code",
   "execution_count": null,
   "id": "7c6e225c",
   "metadata": {},
   "outputs": [],
   "source": []
  },
  {
   "cell_type": "code",
   "execution_count": null,
   "id": "62d687d0",
   "metadata": {},
   "outputs": [],
   "source": []
  }
 ],
 "metadata": {
  "kernelspec": {
   "display_name": "Python 3",
   "language": "python",
   "name": "python3"
  },
  "language_info": {
   "codemirror_mode": {
    "name": "ipython",
    "version": 3
   },
   "file_extension": ".py",
   "mimetype": "text/x-python",
   "name": "python",
   "nbconvert_exporter": "python",
   "pygments_lexer": "ipython3",
   "version": "3.8.8"
  }
 },
 "nbformat": 4,
 "nbformat_minor": 5
}
