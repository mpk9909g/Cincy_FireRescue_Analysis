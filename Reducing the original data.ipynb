{
 "cells": [
  {
   "cell_type": "code",
   "execution_count": 1,
   "id": "162dde6d",
   "metadata": {},
   "outputs": [],
   "source": [
    "import pandas as pd\n",
    "from datetime import datetime"
   ]
  },
  {
   "cell_type": "markdown",
   "id": "4892be45",
   "metadata": {},
   "source": [
    "## Extract and reduce the Data"
   ]
  },
  {
   "cell_type": "code",
   "execution_count": 22,
   "id": "33ae7936",
   "metadata": {},
   "outputs": [
    {
     "data": {
      "text/html": [
       "<div>\n",
       "<style scoped>\n",
       "    .dataframe tbody tr th:only-of-type {\n",
       "        vertical-align: middle;\n",
       "    }\n",
       "\n",
       "    .dataframe tbody tr th {\n",
       "        vertical-align: top;\n",
       "    }\n",
       "\n",
       "    .dataframe thead th {\n",
       "        text-align: right;\n",
       "    }\n",
       "</style>\n",
       "<table border=\"1\" class=\"dataframe\">\n",
       "  <thead>\n",
       "    <tr style=\"text-align: right;\">\n",
       "      <th></th>\n",
       "      <th>ADDRESS_X</th>\n",
       "      <th>LATITUDE_X</th>\n",
       "      <th>LONGITUDE_X</th>\n",
       "      <th>AGENCY</th>\n",
       "      <th>CREATE_TIME_INCIDENT</th>\n",
       "      <th>DISPOSITION_TEXT</th>\n",
       "      <th>EVENT_NUMBER</th>\n",
       "      <th>INCIDENT_TYPE_ID</th>\n",
       "      <th>INCIDENT_TYPE_DESC</th>\n",
       "      <th>NEIGHBORHOOD</th>\n",
       "      <th>ARRIVAL_TIME_PRIMARY_UNIT</th>\n",
       "      <th>BEAT</th>\n",
       "      <th>CLOSED_TIME_INCIDENT</th>\n",
       "      <th>DISPATCH_TIME_PRIMARY_UNIT</th>\n",
       "      <th>CFD_INCIDENT_TYPE</th>\n",
       "      <th>CFD_INCIDENT_TYPE_GROUP</th>\n",
       "      <th>COMMUNITY_COUNCIL_NEIGHBORHOOD</th>\n",
       "    </tr>\n",
       "  </thead>\n",
       "  <tbody>\n",
       "    <tr>\n",
       "      <th>0</th>\n",
       "      <td>KEMPER LN</td>\n",
       "      <td>39.126040</td>\n",
       "      <td>-84.487895</td>\n",
       "      <td>CFD</td>\n",
       "      <td>11/16/2021 1:41</td>\n",
       "      <td>MEDD: MT DISREGARDED</td>\n",
       "      <td>CFD211116000125</td>\n",
       "      <td>6C1</td>\n",
       "      <td>ABNORMAL BREATHING</td>\n",
       "      <td>WALNUT HILLS</td>\n",
       "      <td>11/16/2021 1:44</td>\n",
       "      <td>ST23</td>\n",
       "      <td>11/16/2021 1:54</td>\n",
       "      <td>11/16/2021 1:42</td>\n",
       "      <td>ALS</td>\n",
       "      <td>BREATHING PROBLEMS</td>\n",
       "      <td>WALNUT HILLS</td>\n",
       "    </tr>\n",
       "    <tr>\n",
       "      <th>1</th>\n",
       "      <td>W NORTH BEND RD</td>\n",
       "      <td>39.196987</td>\n",
       "      <td>-84.477879</td>\n",
       "      <td>CFD</td>\n",
       "      <td>11/16/2021 1:33</td>\n",
       "      <td>GI: GOOD INTENT</td>\n",
       "      <td>CFD211116000124</td>\n",
       "      <td>STUCK</td>\n",
       "      <td>NaN</td>\n",
       "      <td>CARTHAGE</td>\n",
       "      <td>11/16/2021 1:39</td>\n",
       "      <td>ST02</td>\n",
       "      <td>11/16/2021 1:45</td>\n",
       "      <td>11/16/2021 1:33</td>\n",
       "      <td>OTHE</td>\n",
       "      <td>STUCK IN ELEVATOR</td>\n",
       "      <td>CARTHAGE</td>\n",
       "    </tr>\n",
       "    <tr>\n",
       "      <th>2</th>\n",
       "      <td>STILLWELL RD</td>\n",
       "      <td>39.205596</td>\n",
       "      <td>-84.456781</td>\n",
       "      <td>CFD</td>\n",
       "      <td>11/16/2021 1:29</td>\n",
       "      <td>MEDT: MEDIC TRANSPORT</td>\n",
       "      <td>CFD211116000123</td>\n",
       "      <td>28C1</td>\n",
       "      <td>NOT ALERT</td>\n",
       "      <td>ROSELAWN</td>\n",
       "      <td>11/16/2021 1:35</td>\n",
       "      <td>ST02</td>\n",
       "      <td>11/16/2021 2:19</td>\n",
       "      <td>11/16/2021 1:30</td>\n",
       "      <td>ALS</td>\n",
       "      <td>STROKE (CVA) / TRANSIENT ISCHEMIC ATTACK (TIA)</td>\n",
       "      <td>ROSELAWN</td>\n",
       "    </tr>\n",
       "    <tr>\n",
       "      <th>3</th>\n",
       "      <td>NOTTINGHAM RD</td>\n",
       "      <td>39.155347</td>\n",
       "      <td>-84.561519</td>\n",
       "      <td>CFD</td>\n",
       "      <td>11/16/2021 1:26</td>\n",
       "      <td>IN: INVESTIGATION</td>\n",
       "      <td>CFD211116000122</td>\n",
       "      <td>FUMES</td>\n",
       "      <td>NaN</td>\n",
       "      <td>VILLAGES AT ROLL HILL</td>\n",
       "      <td>11/16/2021 1:32</td>\n",
       "      <td>ST12</td>\n",
       "      <td>11/16/2021 1:42</td>\n",
       "      <td>11/16/2021 1:26</td>\n",
       "      <td>FIRE</td>\n",
       "      <td>FUMES</td>\n",
       "      <td>VILLAGES AT ROLL HILL</td>\n",
       "    </tr>\n",
       "    <tr>\n",
       "      <th>4</th>\n",
       "      <td>GEORGIA AV</td>\n",
       "      <td>39.164977</td>\n",
       "      <td>-84.549168</td>\n",
       "      <td>CFD</td>\n",
       "      <td>11/16/2021 1:23</td>\n",
       "      <td>EMS: NO TRANSPORT</td>\n",
       "      <td>CFD211116000121</td>\n",
       "      <td>EMS</td>\n",
       "      <td>NaN</td>\n",
       "      <td>NORTHSIDE</td>\n",
       "      <td>11/16/2021 1:28</td>\n",
       "      <td>ST20</td>\n",
       "      <td>11/16/2021 1:40</td>\n",
       "      <td>11/16/2021 1:24</td>\n",
       "      <td>BLS</td>\n",
       "      <td>MEDICAL EMERGENCY</td>\n",
       "      <td>NORTHSIDE</td>\n",
       "    </tr>\n",
       "  </tbody>\n",
       "</table>\n",
       "</div>"
      ],
      "text/plain": [
       "         ADDRESS_X  LATITUDE_X  LONGITUDE_X AGENCY CREATE_TIME_INCIDENT  \\\n",
       "0        KEMPER LN   39.126040   -84.487895    CFD      11/16/2021 1:41   \n",
       "1  W NORTH BEND RD   39.196987   -84.477879    CFD      11/16/2021 1:33   \n",
       "2     STILLWELL RD   39.205596   -84.456781    CFD      11/16/2021 1:29   \n",
       "3    NOTTINGHAM RD   39.155347   -84.561519    CFD      11/16/2021 1:26   \n",
       "4       GEORGIA AV   39.164977   -84.549168    CFD      11/16/2021 1:23   \n",
       "\n",
       "        DISPOSITION_TEXT     EVENT_NUMBER INCIDENT_TYPE_ID  \\\n",
       "0   MEDD: MT DISREGARDED  CFD211116000125              6C1   \n",
       "1        GI: GOOD INTENT  CFD211116000124            STUCK   \n",
       "2  MEDT: MEDIC TRANSPORT  CFD211116000123             28C1   \n",
       "3      IN: INVESTIGATION  CFD211116000122            FUMES   \n",
       "4      EMS: NO TRANSPORT  CFD211116000121              EMS   \n",
       "\n",
       "   INCIDENT_TYPE_DESC           NEIGHBORHOOD ARRIVAL_TIME_PRIMARY_UNIT  BEAT  \\\n",
       "0  ABNORMAL BREATHING           WALNUT HILLS           11/16/2021 1:44  ST23   \n",
       "1                 NaN               CARTHAGE           11/16/2021 1:39  ST02   \n",
       "2           NOT ALERT               ROSELAWN           11/16/2021 1:35  ST02   \n",
       "3                 NaN  VILLAGES AT ROLL HILL           11/16/2021 1:32  ST12   \n",
       "4                 NaN              NORTHSIDE           11/16/2021 1:28  ST20   \n",
       "\n",
       "  CLOSED_TIME_INCIDENT DISPATCH_TIME_PRIMARY_UNIT CFD_INCIDENT_TYPE  \\\n",
       "0      11/16/2021 1:54            11/16/2021 1:42               ALS   \n",
       "1      11/16/2021 1:45            11/16/2021 1:33              OTHE   \n",
       "2      11/16/2021 2:19            11/16/2021 1:30               ALS   \n",
       "3      11/16/2021 1:42            11/16/2021 1:26              FIRE   \n",
       "4      11/16/2021 1:40            11/16/2021 1:24               BLS   \n",
       "\n",
       "                          CFD_INCIDENT_TYPE_GROUP  \\\n",
       "0                              BREATHING PROBLEMS   \n",
       "1                               STUCK IN ELEVATOR   \n",
       "2  STROKE (CVA) / TRANSIENT ISCHEMIC ATTACK (TIA)   \n",
       "3                                           FUMES   \n",
       "4                               MEDICAL EMERGENCY   \n",
       "\n",
       "  COMMUNITY_COUNCIL_NEIGHBORHOOD  \n",
       "0                   WALNUT HILLS  \n",
       "1                       CARTHAGE  \n",
       "2                       ROSELAWN  \n",
       "3          VILLAGES AT ROLL HILL  \n",
       "4                      NORTHSIDE  "
      ]
     },
     "execution_count": 22,
     "metadata": {},
     "output_type": "execute_result"
    }
   ],
   "source": [
    "# read the csv into a dataframe\n",
    "cincinnati_fire = pd.read_csv(\"Cincinnati_Fire_Incidents__CAD___including_EMS__ALS_BLS_.csv\")\n",
    "cincinnati_fire.head()"
   ]
  },
  {
   "cell_type": "code",
   "execution_count": 3,
   "id": "c9d84ade",
   "metadata": {},
   "outputs": [
    {
     "data": {
      "text/plain": [
       "(606762, 17)"
      ]
     },
     "execution_count": 3,
     "metadata": {},
     "output_type": "execute_result"
    }
   ],
   "source": [
    "# Check out how many rows and columns are in the dataframe\n",
    "\n",
    "cincinnati_fire.shape"
   ]
  },
  {
   "cell_type": "markdown",
   "id": "9042a062",
   "metadata": {},
   "source": [
    "### Reduce the original Data¶"
   ]
  },
  {
   "cell_type": "code",
   "execution_count": 5,
   "id": "002e43e1",
   "metadata": {},
   "outputs": [
    {
     "data": {
      "text/plain": [
       "ADDRESS_X                          object\n",
       "LATITUDE_X                        float64\n",
       "LONGITUDE_X                       float64\n",
       "AGENCY                             object\n",
       "CREATE_TIME_INCIDENT               object\n",
       "DISPOSITION_TEXT                   object\n",
       "EVENT_NUMBER                       object\n",
       "INCIDENT_TYPE_ID                   object\n",
       "INCIDENT_TYPE_DESC                 object\n",
       "NEIGHBORHOOD                       object\n",
       "ARRIVAL_TIME_PRIMARY_UNIT          object\n",
       "BEAT                               object\n",
       "CLOSED_TIME_INCIDENT               object\n",
       "DISPATCH_TIME_PRIMARY_UNIT         object\n",
       "CFD_INCIDENT_TYPE                  object\n",
       "CFD_INCIDENT_TYPE_GROUP            object\n",
       "COMMUNITY_COUNCIL_NEIGHBORHOOD     object\n",
       "dtype: object"
      ]
     },
     "execution_count": 5,
     "metadata": {},
     "output_type": "execute_result"
    }
   ],
   "source": [
    "# check the column types\n",
    "cincinnati_fire.dtypes"
   ]
  },
  {
   "cell_type": "code",
   "execution_count": 6,
   "id": "d7bda0d1",
   "metadata": {},
   "outputs": [],
   "source": [
    "# Change the CREATE_TIME_INCIDENT column into datetime64 in order to do further analysis\n",
    "\n",
    "cincinnati_fire[\"CREATE_TIME_INCIDENT\"] = pd.to_datetime(cincinnati_fire[\"CREATE_TIME_INCIDENT\"])"
   ]
  },
  {
   "cell_type": "code",
   "execution_count": 7,
   "id": "75f32001",
   "metadata": {},
   "outputs": [
    {
     "data": {
      "text/plain": [
       "ADDRESS_X                                 object\n",
       "LATITUDE_X                               float64\n",
       "LONGITUDE_X                              float64\n",
       "AGENCY                                    object\n",
       "CREATE_TIME_INCIDENT              datetime64[ns]\n",
       "DISPOSITION_TEXT                          object\n",
       "EVENT_NUMBER                              object\n",
       "INCIDENT_TYPE_ID                          object\n",
       "INCIDENT_TYPE_DESC                        object\n",
       "NEIGHBORHOOD                              object\n",
       "ARRIVAL_TIME_PRIMARY_UNIT                 object\n",
       "BEAT                                      object\n",
       "CLOSED_TIME_INCIDENT                      object\n",
       "DISPATCH_TIME_PRIMARY_UNIT                object\n",
       "CFD_INCIDENT_TYPE                         object\n",
       "CFD_INCIDENT_TYPE_GROUP                   object\n",
       "COMMUNITY_COUNCIL_NEIGHBORHOOD            object\n",
       "dtype: object"
      ]
     },
     "execution_count": 7,
     "metadata": {},
     "output_type": "execute_result"
    }
   ],
   "source": [
    "# check out the types of the columns to see if the transformation has worked\n",
    "cincinnati_fire.dtypes"
   ]
  },
  {
   "cell_type": "code",
   "execution_count": 25,
   "id": "efaf52d1",
   "metadata": {},
   "outputs": [
    {
     "data": {
      "text/plain": [
       "(606739, 17)"
      ]
     },
     "execution_count": 25,
     "metadata": {},
     "output_type": "execute_result"
    }
   ],
   "source": [
    "# remove the rows with incidents before the year 2019\n",
    "\n",
    "cincinnati_filtered_df = cincinnati_fire.loc[(cincinnati_fire['CREATE_TIME_INCIDENT'] >= '01/01/2019')]\n",
    "cincinnati_filtered_df.shape\n",
    "\n",
    "\n"
   ]
  },
  {
   "cell_type": "code",
   "execution_count": null,
   "id": "5e251d58",
   "metadata": {},
   "outputs": [],
   "source": [
    "# save the filtered dataframe and use this as your source data\n",
    "\n",
    "cincinnati_filtered_df.to_csv('cincinnati_filtered_df.csv', index=False)"
   ]
  },
  {
   "cell_type": "code",
   "execution_count": null,
   "id": "8c0c86f6",
   "metadata": {},
   "outputs": [],
   "source": []
  },
  {
   "cell_type": "code",
   "execution_count": null,
   "id": "bcda96a7",
   "metadata": {},
   "outputs": [],
   "source": []
  }
 ],
 "metadata": {
  "kernelspec": {
   "display_name": "Python 3",
   "language": "python",
   "name": "python3"
  },
  "language_info": {
   "codemirror_mode": {
    "name": "ipython",
    "version": 3
   },
   "file_extension": ".py",
   "mimetype": "text/x-python",
   "name": "python",
   "nbconvert_exporter": "python",
   "pygments_lexer": "ipython3",
   "version": "3.8.8"
  }
 },
 "nbformat": 4,
 "nbformat_minor": 5
}
