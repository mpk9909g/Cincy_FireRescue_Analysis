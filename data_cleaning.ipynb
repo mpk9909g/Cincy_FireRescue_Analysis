{
 "cells": [
  {
   "cell_type": "markdown",
   "id": "7d3f1aa1",
   "metadata": {},
   "source": [
    " ## Project 2\n",
    " ### Team:4\n",
    "    \n",
    "    Anji Asthana\n",
    "    Eugene Witherspoon\n",
    "    Fatma Butun\n",
    "    Matt Keeley\n",
    "    Shay Masood\n",
    "\n",
    "\n",
    " "
   ]
  },
  {
   "cell_type": "markdown",
   "id": "7f04a9a7",
   "metadata": {},
   "source": [
    "## Overview "
   ]
  },
  {
   "cell_type": "markdown",
   "id": "94f670a3",
   "metadata": {},
   "source": [
    "####  The purpose of this project is to examine the distribution of fire and rescue incident calls across different neighborhoods in Cincinnati, OH and inform residents about the fire department’s performance, including: \n",
    "#####   a. Ambulance headquarters placement \n",
    "#####   b. Fire hydrant pressure adjustments\n",
    "#####   c. Allocation of fire fighter/rescue resources\n",
    "#####   d. Helping high-risk citizens stay informed about response time\n",
    "#####   e. Serve as a resource for fire department managers/administration\n"
   ]
  },
  {
   "cell_type": "code",
   "execution_count": 1,
   "id": "ef952a5e",
   "metadata": {},
   "outputs": [],
   "source": [
    "import pandas as pd\n",
    "from datetime import datetime\n",
    "from sqlalchemy import create_engine\n",
    "\n"
   ]
  },
  {
   "cell_type": "markdown",
   "id": "1e5768b6",
   "metadata": {},
   "source": [
    "## Extract the Data \n",
    "\n",
    "### This part is using the original data source to obtain a file that is smaller in size \n",
    "\n",
    "### The code here is commented out because the original file is not available on github"
   ]
  },
  {
   "cell_type": "code",
   "execution_count": 2,
   "id": "cc0ba490",
   "metadata": {},
   "outputs": [],
   "source": [
    "# # read the csv into a dataframe\n",
    "# cincinnati_fire = pd.read_csv(\"Cincinnati_Fire_Incidents__CAD___including_EMS__ALS_BLS_.csv\")"
   ]
  },
  {
   "cell_type": "code",
   "execution_count": 3,
   "id": "dacca377",
   "metadata": {},
   "outputs": [],
   "source": [
    "# cincinnati_fire.tail()"
   ]
  },
  {
   "cell_type": "code",
   "execution_count": 4,
   "id": "352e004b",
   "metadata": {},
   "outputs": [],
   "source": [
    "# # Check out how many rows and columns are in the dataframe\n",
    "\n",
    "# cincinnati_fire.shape"
   ]
  },
  {
   "cell_type": "markdown",
   "id": "b36ee62c",
   "metadata": {},
   "source": [
    "## Transform and Clean the Data"
   ]
  },
  {
   "cell_type": "markdown",
   "id": "9be14b5a",
   "metadata": {},
   "source": [
    "### Reduce the original Data"
   ]
  },
  {
   "cell_type": "code",
   "execution_count": 5,
   "id": "3d6d0e83",
   "metadata": {},
   "outputs": [],
   "source": [
    "# # check the column types\n",
    "# cincinnati_fire.dtypes"
   ]
  },
  {
   "cell_type": "code",
   "execution_count": 6,
   "id": "2e4a58b0",
   "metadata": {},
   "outputs": [],
   "source": [
    "# # Change the CREATE_TIME_INCIDENT  column into datetime64 in order to do further analysis\n",
    "\n",
    "# cincinnati_fire[\"CREATE_TIME_INCIDENT\"] = pd.to_datetime(cincinnati_fire[\"CREATE_TIME_INCIDENT\"])\n"
   ]
  },
  {
   "cell_type": "code",
   "execution_count": 7,
   "id": "46ef62bc",
   "metadata": {},
   "outputs": [],
   "source": [
    "# # check out the types of the columns to see if the transformation has worked\n",
    "# cincinnati_fire.dtypes"
   ]
  },
  {
   "cell_type": "code",
   "execution_count": 8,
   "id": "600cc652",
   "metadata": {},
   "outputs": [],
   "source": [
    "# # remove the rows with incidents before the year 2019\n",
    "\n",
    "# cincinnati_filtered_df = cincinnati_fire.loc[(cincinnati_fire['CREATE_TIME_INCIDENT'] >= '01/01/2019')]\n",
    "# cincinnati_filtered_df.shape  "
   ]
  },
  {
   "cell_type": "code",
   "execution_count": 9,
   "id": "e4c35641",
   "metadata": {},
   "outputs": [],
   "source": [
    "# # save the filtered dataframe and use this as your source data\n",
    "\n",
    "# cincinnati_filtered_df.to_csv('cincinnati_filtered_df.csv', index=False)"
   ]
  },
  {
   "cell_type": "markdown",
   "id": "e6bde08c",
   "metadata": {},
   "source": [
    "## Load the filtered data for the analysis\n"
   ]
  },
  {
   "cell_type": "code",
   "execution_count": 10,
   "id": "6e8cdca2",
   "metadata": {},
   "outputs": [],
   "source": [
    "# read the csv into a df\n",
    "\n",
    "cincinnati_fire_filtered = pd.read_csv(\"cincinnati_filtered_df.csv\")"
   ]
  },
  {
   "cell_type": "code",
   "execution_count": 11,
   "id": "347ae8c9",
   "metadata": {},
   "outputs": [],
   "source": [
    "# Change the CREATE_TIME_INCIDENT  column into datetime64 in order to do further analysis\n",
    "\n",
    "cincinnati_fire_filtered[\"CREATE_TIME_INCIDENT\"] = pd.to_datetime(cincinnati_fire_filtered[\"CREATE_TIME_INCIDENT\"])"
   ]
  },
  {
   "cell_type": "code",
   "execution_count": 12,
   "id": "ceea40b4",
   "metadata": {},
   "outputs": [],
   "source": [
    "# Change the ARRIVAL_TIME_PRIMARY_UNIT column into datetime64 in order to do further analysis\n",
    "\n",
    "cincinnati_fire_filtered[\"ARRIVAL_TIME_PRIMARY_UNIT\"] = pd.to_datetime(cincinnati_fire_filtered[\"ARRIVAL_TIME_PRIMARY_UNIT\"])"
   ]
  },
  {
   "cell_type": "code",
   "execution_count": 13,
   "id": "0a73c17c",
   "metadata": {},
   "outputs": [
    {
     "data": {
      "text/plain": [
       "ADDRESS_X                                 object\n",
       "LATITUDE_X                               float64\n",
       "LONGITUDE_X                              float64\n",
       "AGENCY                                    object\n",
       "CREATE_TIME_INCIDENT              datetime64[ns]\n",
       "DISPOSITION_TEXT                          object\n",
       "EVENT_NUMBER                              object\n",
       "INCIDENT_TYPE_ID                          object\n",
       "INCIDENT_TYPE_DESC                        object\n",
       "NEIGHBORHOOD                              object\n",
       "ARRIVAL_TIME_PRIMARY_UNIT         datetime64[ns]\n",
       "BEAT                                      object\n",
       "CLOSED_TIME_INCIDENT              datetime64[ns]\n",
       "DISPATCH_TIME_PRIMARY_UNIT                object\n",
       "CFD_INCIDENT_TYPE                         object\n",
       "CFD_INCIDENT_TYPE_GROUP                   object\n",
       "COMMUNITY_COUNCIL_NEIGHBORHOOD            object\n",
       "dtype: object"
      ]
     },
     "execution_count": 13,
     "metadata": {},
     "output_type": "execute_result"
    }
   ],
   "source": [
    "# Change the CLOSED_TIME_INCIDENT column into datetime64 in order to do further analysis\n",
    "\n",
    "cincinnati_fire_filtered[\"CLOSED_TIME_INCIDENT\"] = pd.to_datetime(cincinnati_fire_filtered[\"CLOSED_TIME_INCIDENT\"])\n",
    "cincinnati_fire_filtered.dtypes"
   ]
  },
  {
   "cell_type": "code",
   "execution_count": 14,
   "id": "6cbddd7c",
   "metadata": {},
   "outputs": [
    {
     "data": {
      "text/plain": [
       "(127528, 17)"
      ]
     },
     "execution_count": 14,
     "metadata": {},
     "output_type": "execute_result"
    }
   ],
   "source": [
    "# remove rows with at least 1 NaN\n",
    "\n",
    "cincinnati_fire_filtered = cincinnati_fire_filtered.dropna()\n",
    "cincinnati_fire_filtered.shape"
   ]
  },
  {
   "cell_type": "code",
   "execution_count": 15,
   "id": "6b72ed05",
   "metadata": {},
   "outputs": [],
   "source": [
    "# Calculate the duration for the arrival after the incident was reported\n",
    "\n",
    "cincinnati_fire_filtered[\"ARRIVAL_DURATION\"] = (cincinnati_fire_filtered[\"ARRIVAL_TIME_PRIMARY_UNIT\"] - cincinnati_fire_filtered[\"CREATE_TIME_INCIDENT\"]).astype('timedelta64[m]')\n",
    "\n"
   ]
  },
  {
   "cell_type": "code",
   "execution_count": 16,
   "id": "18004cc2",
   "metadata": {},
   "outputs": [],
   "source": [
    "# Calculate the duration for closing the incident after the incident was reported\n",
    "\n",
    "cincinnati_fire_filtered[\"CLOSING_DURATION\"] = (cincinnati_fire_filtered[\"CLOSED_TIME_INCIDENT\"] - cincinnati_fire_filtered[\"CREATE_TIME_INCIDENT\"]).astype('timedelta64[m]')\n",
    "\n"
   ]
  },
  {
   "cell_type": "code",
   "execution_count": 17,
   "id": "c32e2c8f",
   "metadata": {},
   "outputs": [],
   "source": [
    "# cincinnati_fire_filtered.head()"
   ]
  },
  {
   "cell_type": "code",
   "execution_count": 18,
   "id": "d44f18fb",
   "metadata": {},
   "outputs": [
    {
     "data": {
      "text/plain": [
       "(120546, 19)"
      ]
     },
     "execution_count": 18,
     "metadata": {},
     "output_type": "execute_result"
    }
   ],
   "source": [
    "# dropdupliacte rows\n",
    "cincinnati_fire_filtered = cincinnati_fire_filtered.drop_duplicates()\n",
    "cincinnati_fire_filtered.shape"
   ]
  },
  {
   "cell_type": "code",
   "execution_count": 19,
   "id": "8e70370f",
   "metadata": {},
   "outputs": [
    {
     "data": {
      "text/html": [
       "<div>\n",
       "<style scoped>\n",
       "    .dataframe tbody tr th:only-of-type {\n",
       "        vertical-align: middle;\n",
       "    }\n",
       "\n",
       "    .dataframe tbody tr th {\n",
       "        vertical-align: top;\n",
       "    }\n",
       "\n",
       "    .dataframe thead th {\n",
       "        text-align: right;\n",
       "    }\n",
       "</style>\n",
       "<table border=\"1\" class=\"dataframe\">\n",
       "  <thead>\n",
       "    <tr style=\"text-align: right;\">\n",
       "      <th></th>\n",
       "      <th>EVENT_NUMBER</th>\n",
       "      <th>NEIGHBORHOOD</th>\n",
       "      <th>LATITUDE_X</th>\n",
       "      <th>LONGITUDE_X</th>\n",
       "      <th>INCIDENT_TYPE_DESC</th>\n",
       "    </tr>\n",
       "  </thead>\n",
       "  <tbody>\n",
       "    <tr>\n",
       "      <th>0</th>\n",
       "      <td>CFD211116000125</td>\n",
       "      <td>WALNUT HILLS</td>\n",
       "      <td>39.126040</td>\n",
       "      <td>-84.487895</td>\n",
       "      <td>ABNORMAL BREATHING</td>\n",
       "    </tr>\n",
       "    <tr>\n",
       "      <th>2</th>\n",
       "      <td>CFD211116000123</td>\n",
       "      <td>ROSELAWN</td>\n",
       "      <td>39.205596</td>\n",
       "      <td>-84.456781</td>\n",
       "      <td>NOT ALERT</td>\n",
       "    </tr>\n",
       "    <tr>\n",
       "      <th>5</th>\n",
       "      <td>CFD211116000120</td>\n",
       "      <td>ROSELAWN</td>\n",
       "      <td>39.191268</td>\n",
       "      <td>-84.457610</td>\n",
       "      <td>PUBLIC ASSIST (NO INJURIES AND NO PRIORITY SYM...</td>\n",
       "    </tr>\n",
       "    <tr>\n",
       "      <th>7</th>\n",
       "      <td>CFD211116000118</td>\n",
       "      <td>WINTON HILLS</td>\n",
       "      <td>39.184900</td>\n",
       "      <td>-84.512450</td>\n",
       "      <td>ALERT WITH ABNORMAL BREATHING</td>\n",
       "    </tr>\n",
       "    <tr>\n",
       "      <th>10</th>\n",
       "      <td>CFD211116000115</td>\n",
       "      <td>DOWNTOWN</td>\n",
       "      <td>39.104139</td>\n",
       "      <td>-84.508171</td>\n",
       "      <td>POSSIBLY DANGEROUS BODY AREA</td>\n",
       "    </tr>\n",
       "  </tbody>\n",
       "</table>\n",
       "</div>"
      ],
      "text/plain": [
       "       EVENT_NUMBER  NEIGHBORHOOD  LATITUDE_X  LONGITUDE_X  \\\n",
       "0   CFD211116000125  WALNUT HILLS   39.126040   -84.487895   \n",
       "2   CFD211116000123      ROSELAWN   39.205596   -84.456781   \n",
       "5   CFD211116000120      ROSELAWN   39.191268   -84.457610   \n",
       "7   CFD211116000118  WINTON HILLS   39.184900   -84.512450   \n",
       "10  CFD211116000115      DOWNTOWN   39.104139   -84.508171   \n",
       "\n",
       "                                   INCIDENT_TYPE_DESC  \n",
       "0                                  ABNORMAL BREATHING  \n",
       "2                                           NOT ALERT  \n",
       "5   PUBLIC ASSIST (NO INJURIES AND NO PRIORITY SYM...  \n",
       "7                       ALERT WITH ABNORMAL BREATHING  \n",
       "10                       POSSIBLY DANGEROUS BODY AREA  "
      ]
     },
     "execution_count": 19,
     "metadata": {},
     "output_type": "execute_result"
    }
   ],
   "source": [
    "# prepare 3 new dataframes with the required columns only \n",
    "    \n",
    "# 1-prepare an incidents vs neighborhood df\n",
    "    \n",
    "neighborhood_incidents = cincinnati_fire_filtered [[\"EVENT_NUMBER\", \"NEIGHBORHOOD\", \"LATITUDE_X\", \"LONGITUDE_X\", \"INCIDENT_TYPE_DESC\"]]\n",
    "neighborhood_incidents.head()"
   ]
  },
  {
   "cell_type": "code",
   "execution_count": 20,
   "id": "78c6272b",
   "metadata": {},
   "outputs": [
    {
     "data": {
      "text/html": [
       "<div>\n",
       "<style scoped>\n",
       "    .dataframe tbody tr th:only-of-type {\n",
       "        vertical-align: middle;\n",
       "    }\n",
       "\n",
       "    .dataframe tbody tr th {\n",
       "        vertical-align: top;\n",
       "    }\n",
       "\n",
       "    .dataframe thead th {\n",
       "        text-align: right;\n",
       "    }\n",
       "</style>\n",
       "<table border=\"1\" class=\"dataframe\">\n",
       "  <thead>\n",
       "    <tr style=\"text-align: right;\">\n",
       "      <th></th>\n",
       "      <th>EVENT_NUMBER</th>\n",
       "      <th>ARRIVAL_DURATION</th>\n",
       "      <th>CREATE_TIME_INCIDENT</th>\n",
       "      <th>NEIGHBORHOOD</th>\n",
       "      <th>INCIDENT_TYPE_DESC</th>\n",
       "    </tr>\n",
       "  </thead>\n",
       "  <tbody>\n",
       "    <tr>\n",
       "      <th>0</th>\n",
       "      <td>CFD211116000125</td>\n",
       "      <td>3.0</td>\n",
       "      <td>2021-11-16 01:41:00</td>\n",
       "      <td>WALNUT HILLS</td>\n",
       "      <td>ABNORMAL BREATHING</td>\n",
       "    </tr>\n",
       "    <tr>\n",
       "      <th>2</th>\n",
       "      <td>CFD211116000123</td>\n",
       "      <td>6.0</td>\n",
       "      <td>2021-11-16 01:29:00</td>\n",
       "      <td>ROSELAWN</td>\n",
       "      <td>NOT ALERT</td>\n",
       "    </tr>\n",
       "    <tr>\n",
       "      <th>5</th>\n",
       "      <td>CFD211116000120</td>\n",
       "      <td>5.0</td>\n",
       "      <td>2021-11-16 01:12:00</td>\n",
       "      <td>ROSELAWN</td>\n",
       "      <td>PUBLIC ASSIST (NO INJURIES AND NO PRIORITY SYM...</td>\n",
       "    </tr>\n",
       "    <tr>\n",
       "      <th>7</th>\n",
       "      <td>CFD211116000118</td>\n",
       "      <td>4.0</td>\n",
       "      <td>2021-11-16 01:07:00</td>\n",
       "      <td>WINTON HILLS</td>\n",
       "      <td>ALERT WITH ABNORMAL BREATHING</td>\n",
       "    </tr>\n",
       "    <tr>\n",
       "      <th>10</th>\n",
       "      <td>CFD211116000115</td>\n",
       "      <td>2.0</td>\n",
       "      <td>2021-11-16 01:02:00</td>\n",
       "      <td>DOWNTOWN</td>\n",
       "      <td>POSSIBLY DANGEROUS BODY AREA</td>\n",
       "    </tr>\n",
       "    <tr>\n",
       "      <th>11</th>\n",
       "      <td>CFD211116000114</td>\n",
       "      <td>4.0</td>\n",
       "      <td>2021-11-16 01:00:00</td>\n",
       "      <td>AVONDALE</td>\n",
       "      <td>ABNORMAL BREATHING</td>\n",
       "    </tr>\n",
       "    <tr>\n",
       "      <th>12</th>\n",
       "      <td>CFD211116000113</td>\n",
       "      <td>4.0</td>\n",
       "      <td>2021-11-16 12:51:00</td>\n",
       "      <td>WESTWOOD</td>\n",
       "      <td>ALTERED LEVEL OF CONSCIOUSNESS</td>\n",
       "    </tr>\n",
       "    <tr>\n",
       "      <th>14</th>\n",
       "      <td>CFD211116000111</td>\n",
       "      <td>7.0</td>\n",
       "      <td>2021-11-16 12:48:00</td>\n",
       "      <td>MADISONVILLE</td>\n",
       "      <td>NOT ALERT</td>\n",
       "    </tr>\n",
       "    <tr>\n",
       "      <th>15</th>\n",
       "      <td>CFD211116000110</td>\n",
       "      <td>2.0</td>\n",
       "      <td>2021-11-16 12:48:00</td>\n",
       "      <td>WALNUT HILLS</td>\n",
       "      <td>SUDDEN SPEECH PROBLEMS</td>\n",
       "    </tr>\n",
       "    <tr>\n",
       "      <th>18</th>\n",
       "      <td>CFD211116000107</td>\n",
       "      <td>3.0</td>\n",
       "      <td>2021-11-16 12:41:00</td>\n",
       "      <td>COLLEGE HILL</td>\n",
       "      <td>CHANGING COLOR</td>\n",
       "    </tr>\n",
       "    <tr>\n",
       "      <th>19</th>\n",
       "      <td>CFD211116000106</td>\n",
       "      <td>3.0</td>\n",
       "      <td>2021-11-16 12:32:00</td>\n",
       "      <td>QUEENSGATE</td>\n",
       "      <td>UNKNOWN STATUS/OTHER CODES NOT APPLICABLE</td>\n",
       "    </tr>\n",
       "    <tr>\n",
       "      <th>22</th>\n",
       "      <td>CFD211116000103</td>\n",
       "      <td>4.0</td>\n",
       "      <td>2021-11-16 12:16:00</td>\n",
       "      <td>WALNUT HILLS</td>\n",
       "      <td>TRACHEOSTOMY (OBVIOUS DISTRESS)</td>\n",
       "    </tr>\n",
       "    <tr>\n",
       "      <th>23</th>\n",
       "      <td>CFD211116000102</td>\n",
       "      <td>7.0</td>\n",
       "      <td>2021-11-16 12:06:00</td>\n",
       "      <td>SOUTH CUMMINSVILLE</td>\n",
       "      <td>MEDICAL ALARM (ALERT) NOTIFICATIONS (NO PATIEN...</td>\n",
       "    </tr>\n",
       "    <tr>\n",
       "      <th>24</th>\n",
       "      <td>CFD211116000101</td>\n",
       "      <td>4.0</td>\n",
       "      <td>2021-11-16 12:04:00</td>\n",
       "      <td>MT. WASHINGTON</td>\n",
       "      <td>DIFFICULTY SPEAKING BETWEEN BREATHS</td>\n",
       "    </tr>\n",
       "    <tr>\n",
       "      <th>25</th>\n",
       "      <td>CFD211116000100</td>\n",
       "      <td>5.0</td>\n",
       "      <td>2021-11-16 12:00:00</td>\n",
       "      <td>EAST END</td>\n",
       "      <td>UNKNOWN STATUS/OTHER CODES NOT APPLICABLE</td>\n",
       "    </tr>\n",
       "  </tbody>\n",
       "</table>\n",
       "</div>"
      ],
      "text/plain": [
       "       EVENT_NUMBER  ARRIVAL_DURATION CREATE_TIME_INCIDENT  \\\n",
       "0   CFD211116000125               3.0  2021-11-16 01:41:00   \n",
       "2   CFD211116000123               6.0  2021-11-16 01:29:00   \n",
       "5   CFD211116000120               5.0  2021-11-16 01:12:00   \n",
       "7   CFD211116000118               4.0  2021-11-16 01:07:00   \n",
       "10  CFD211116000115               2.0  2021-11-16 01:02:00   \n",
       "11  CFD211116000114               4.0  2021-11-16 01:00:00   \n",
       "12  CFD211116000113               4.0  2021-11-16 12:51:00   \n",
       "14  CFD211116000111               7.0  2021-11-16 12:48:00   \n",
       "15  CFD211116000110               2.0  2021-11-16 12:48:00   \n",
       "18  CFD211116000107               3.0  2021-11-16 12:41:00   \n",
       "19  CFD211116000106               3.0  2021-11-16 12:32:00   \n",
       "22  CFD211116000103               4.0  2021-11-16 12:16:00   \n",
       "23  CFD211116000102               7.0  2021-11-16 12:06:00   \n",
       "24  CFD211116000101               4.0  2021-11-16 12:04:00   \n",
       "25  CFD211116000100               5.0  2021-11-16 12:00:00   \n",
       "\n",
       "          NEIGHBORHOOD                                 INCIDENT_TYPE_DESC  \n",
       "0         WALNUT HILLS                                 ABNORMAL BREATHING  \n",
       "2             ROSELAWN                                          NOT ALERT  \n",
       "5             ROSELAWN  PUBLIC ASSIST (NO INJURIES AND NO PRIORITY SYM...  \n",
       "7         WINTON HILLS                      ALERT WITH ABNORMAL BREATHING  \n",
       "10            DOWNTOWN                       POSSIBLY DANGEROUS BODY AREA  \n",
       "11            AVONDALE                                 ABNORMAL BREATHING  \n",
       "12            WESTWOOD                     ALTERED LEVEL OF CONSCIOUSNESS  \n",
       "14        MADISONVILLE                                          NOT ALERT  \n",
       "15        WALNUT HILLS                             SUDDEN SPEECH PROBLEMS  \n",
       "18        COLLEGE HILL                                     CHANGING COLOR  \n",
       "19          QUEENSGATE          UNKNOWN STATUS/OTHER CODES NOT APPLICABLE  \n",
       "22        WALNUT HILLS                    TRACHEOSTOMY (OBVIOUS DISTRESS)  \n",
       "23  SOUTH CUMMINSVILLE  MEDICAL ALARM (ALERT) NOTIFICATIONS (NO PATIEN...  \n",
       "24      MT. WASHINGTON                DIFFICULTY SPEAKING BETWEEN BREATHS  \n",
       "25            EAST END          UNKNOWN STATUS/OTHER CODES NOT APPLICABLE  "
      ]
     },
     "execution_count": 20,
     "metadata": {},
     "output_type": "execute_result"
    }
   ],
   "source": [
    "# 2- prepare an incidents vs arrival time df\n",
    "\n",
    "incidents_time_duration = cincinnati_fire_filtered [[\"EVENT_NUMBER\", \"ARRIVAL_DURATION\", \"CREATE_TIME_INCIDENT\", \"NEIGHBORHOOD\", \"INCIDENT_TYPE_DESC\"]]\n",
    "incidents_time_duration.head(15)"
   ]
  },
  {
   "cell_type": "code",
   "execution_count": 21,
   "id": "a97b4df8",
   "metadata": {},
   "outputs": [
    {
     "data": {
      "text/html": [
       "<div>\n",
       "<style scoped>\n",
       "    .dataframe tbody tr th:only-of-type {\n",
       "        vertical-align: middle;\n",
       "    }\n",
       "\n",
       "    .dataframe tbody tr th {\n",
       "        vertical-align: top;\n",
       "    }\n",
       "\n",
       "    .dataframe thead th {\n",
       "        text-align: right;\n",
       "    }\n",
       "</style>\n",
       "<table border=\"1\" class=\"dataframe\">\n",
       "  <thead>\n",
       "    <tr style=\"text-align: right;\">\n",
       "      <th></th>\n",
       "      <th>NEIGHBORHOOD</th>\n",
       "      <th>INCIDENT_TYPE_DESC</th>\n",
       "      <th>counts</th>\n",
       "    </tr>\n",
       "  </thead>\n",
       "  <tbody>\n",
       "    <tr>\n",
       "      <th>0</th>\n",
       "      <td>AVONDALE</td>\n",
       "      <td>1ST TRIMESTER HEMORRHAGE OR MISCARRIAGE</td>\n",
       "      <td>8</td>\n",
       "    </tr>\n",
       "    <tr>\n",
       "      <th>1</th>\n",
       "      <td>AVONDALE</td>\n",
       "      <td>1ST TRIMESTER SERIOUS HEMORRHAGE</td>\n",
       "      <td>9</td>\n",
       "    </tr>\n",
       "    <tr>\n",
       "      <th>2</th>\n",
       "      <td>AVONDALE</td>\n",
       "      <td>2ND TRIMESTER HEMORRHAGE OR MISCARRIAGE</td>\n",
       "      <td>8</td>\n",
       "    </tr>\n",
       "    <tr>\n",
       "      <th>3</th>\n",
       "      <td>AVONDALE</td>\n",
       "      <td>3RD TRIMESTER HEMORRHAGE</td>\n",
       "      <td>7</td>\n",
       "    </tr>\n",
       "    <tr>\n",
       "      <th>4</th>\n",
       "      <td>AVONDALE</td>\n",
       "      <td>ABDOMINAL PAIN</td>\n",
       "      <td>225</td>\n",
       "    </tr>\n",
       "    <tr>\n",
       "      <th>5</th>\n",
       "      <td>AVONDALE</td>\n",
       "      <td>ABDOMINAL PAIN/CRAMPING (&lt; 6 MONTHS/24 WEEKS A...</td>\n",
       "      <td>25</td>\n",
       "    </tr>\n",
       "    <tr>\n",
       "      <th>6</th>\n",
       "      <td>AVONDALE</td>\n",
       "      <td>ABNORMAL BEHAVIOR</td>\n",
       "      <td>33</td>\n",
       "    </tr>\n",
       "    <tr>\n",
       "      <th>7</th>\n",
       "      <td>AVONDALE</td>\n",
       "      <td>ABNORMAL BREATHING</td>\n",
       "      <td>782</td>\n",
       "    </tr>\n",
       "    <tr>\n",
       "      <th>8</th>\n",
       "      <td>AVONDALE</td>\n",
       "      <td>ABNORMAL BREATHING (PARTIAL OBSTRUCTION)</td>\n",
       "      <td>24</td>\n",
       "    </tr>\n",
       "    <tr>\n",
       "      <th>9</th>\n",
       "      <td>AVONDALE</td>\n",
       "      <td>ABNORMAL BREATHING WITH MULTIPLE FLU SYMPTOMS</td>\n",
       "      <td>25</td>\n",
       "    </tr>\n",
       "    <tr>\n",
       "      <th>10</th>\n",
       "      <td>AVONDALE</td>\n",
       "      <td>ABNORMAL BREATHING WITH SINGLE FLU SYMPTOM OR ...</td>\n",
       "      <td>14</td>\n",
       "    </tr>\n",
       "    <tr>\n",
       "      <th>11</th>\n",
       "      <td>AVONDALE</td>\n",
       "      <td>AGONAL/INEFFECTIVE BREATHING</td>\n",
       "      <td>5</td>\n",
       "    </tr>\n",
       "    <tr>\n",
       "      <th>12</th>\n",
       "      <td>AVONDALE</td>\n",
       "      <td>ALERT</td>\n",
       "      <td>4</td>\n",
       "    </tr>\n",
       "    <tr>\n",
       "      <th>13</th>\n",
       "      <td>AVONDALE</td>\n",
       "      <td>ALERT AND BEHAVING NORMALLY</td>\n",
       "      <td>65</td>\n",
       "    </tr>\n",
       "    <tr>\n",
       "      <th>14</th>\n",
       "      <td>AVONDALE</td>\n",
       "      <td>ALERT WITH ABNORMAL BREATHING</td>\n",
       "      <td>63</td>\n",
       "    </tr>\n",
       "  </tbody>\n",
       "</table>\n",
       "</div>"
      ],
      "text/plain": [
       "   NEIGHBORHOOD                                 INCIDENT_TYPE_DESC  counts\n",
       "0      AVONDALE            1ST TRIMESTER HEMORRHAGE OR MISCARRIAGE       8\n",
       "1      AVONDALE                   1ST TRIMESTER SERIOUS HEMORRHAGE       9\n",
       "2      AVONDALE            2ND TRIMESTER HEMORRHAGE OR MISCARRIAGE       8\n",
       "3      AVONDALE                           3RD TRIMESTER HEMORRHAGE       7\n",
       "4      AVONDALE                                     ABDOMINAL PAIN     225\n",
       "5      AVONDALE  ABDOMINAL PAIN/CRAMPING (< 6 MONTHS/24 WEEKS A...      25\n",
       "6      AVONDALE                                  ABNORMAL BEHAVIOR      33\n",
       "7      AVONDALE                                 ABNORMAL BREATHING     782\n",
       "8      AVONDALE           ABNORMAL BREATHING (PARTIAL OBSTRUCTION)      24\n",
       "9      AVONDALE      ABNORMAL BREATHING WITH MULTIPLE FLU SYMPTOMS      25\n",
       "10     AVONDALE  ABNORMAL BREATHING WITH SINGLE FLU SYMPTOM OR ...      14\n",
       "11     AVONDALE                       AGONAL/INEFFECTIVE BREATHING       5\n",
       "12     AVONDALE                                              ALERT       4\n",
       "13     AVONDALE                        ALERT AND BEHAVING NORMALLY      65\n",
       "14     AVONDALE                      ALERT WITH ABNORMAL BREATHING      63"
      ]
     },
     "execution_count": 21,
     "metadata": {},
     "output_type": "execute_result"
    }
   ],
   "source": [
    "# 3- prepare a grouped neighborhood dataframe\n",
    "\n",
    "neighborhood_incidents[\"NEIGHBORHOOD\"].unique()\n",
    "neighborhood_incidents_grouped = neighborhood_incidents.groupby([\"NEIGHBORHOOD\", \"INCIDENT_TYPE_DESC\"]).size().reset_index(name='counts')\n",
    "neighborhood_incidents_grouped.head(15)"
   ]
  },
  {
   "cell_type": "code",
   "execution_count": 22,
   "id": "9561be09",
   "metadata": {},
   "outputs": [],
   "source": [
    "# put similar incidents under the same incident type description. \n",
    "\n",
    "# what can we put together?"
   ]
  },
  {
   "cell_type": "code",
   "execution_count": null,
   "id": "a8a6ad44",
   "metadata": {},
   "outputs": [],
   "source": []
  },
  {
   "cell_type": "markdown",
   "id": "f6efb21d",
   "metadata": {},
   "source": [
    "## Create Connection to SQL database and load the tables"
   ]
  },
  {
   "cell_type": "code",
   "execution_count": 23,
   "id": "f25b2f93",
   "metadata": {},
   "outputs": [],
   "source": [
    "# create a connection string to postgres\n",
    "connection_string = \"postgres:bootcamp@localhost:5432/cincinnatifire\"\n",
    "engine = create_engine(f'postgresql://{connection_string}')"
   ]
  },
  {
   "cell_type": "code",
   "execution_count": 24,
   "id": "120fec1f",
   "metadata": {},
   "outputs": [
    {
     "name": "stderr",
     "output_type": "stream",
     "text": [
      "<ipython-input-24-fae4aa58819e>:2: SADeprecationWarning: The Engine.table_names() method is deprecated and will be removed in a future release.  Please refer to Inspector.get_table_names(). (deprecated since: 1.4)\n",
      "  engine.table_names()\n"
     ]
    },
    {
     "data": {
      "text/plain": [
       "['neighborhood_incidents',\n",
       " 'incidents_time_duration',\n",
       " 'neighborhood_incidents_grouped']"
      ]
     },
     "execution_count": 24,
     "metadata": {},
     "output_type": "execute_result"
    }
   ],
   "source": [
    "# check the tables in the cincinnatifire database\n",
    "engine.table_names()"
   ]
  },
  {
   "cell_type": "code",
   "execution_count": 25,
   "id": "d0b677ba",
   "metadata": {},
   "outputs": [],
   "source": [
    "# Insert df data to the tables\n",
    "neighborhood_incidents.to_sql(name='neighborhood_incidents', con=engine, if_exists='append', index=False)\n",
    "\n"
   ]
  },
  {
   "cell_type": "code",
   "execution_count": 26,
   "id": "f4e58778",
   "metadata": {},
   "outputs": [],
   "source": [
    "incidents_time_duration.to_sql(name='incidents_time_duration', con=engine, if_exists='append', index=False)"
   ]
  },
  {
   "cell_type": "code",
   "execution_count": 27,
   "id": "4cf2d875",
   "metadata": {},
   "outputs": [],
   "source": [
    "neighborhood_incidents_grouped.to_sql(name='neighborhood_incidents_grouped', con=engine, if_exists='append', index=False)"
   ]
  },
  {
   "cell_type": "code",
   "execution_count": 28,
   "id": "2b7f1cc6",
   "metadata": {},
   "outputs": [
    {
     "data": {
      "text/html": [
       "<div>\n",
       "<style scoped>\n",
       "    .dataframe tbody tr th:only-of-type {\n",
       "        vertical-align: middle;\n",
       "    }\n",
       "\n",
       "    .dataframe tbody tr th {\n",
       "        vertical-align: top;\n",
       "    }\n",
       "\n",
       "    .dataframe thead th {\n",
       "        text-align: right;\n",
       "    }\n",
       "</style>\n",
       "<table border=\"1\" class=\"dataframe\">\n",
       "  <thead>\n",
       "    <tr style=\"text-align: right;\">\n",
       "      <th></th>\n",
       "      <th>EVENT_NUMBER</th>\n",
       "      <th>ARRIVAL_DURATION</th>\n",
       "      <th>CREATE_TIME_INCIDENT</th>\n",
       "      <th>NEIGHBORHOOD</th>\n",
       "      <th>INCIDENT_TYPE_DESC</th>\n",
       "    </tr>\n",
       "  </thead>\n",
       "  <tbody>\n",
       "    <tr>\n",
       "      <th>0</th>\n",
       "      <td>CFD211116000125</td>\n",
       "      <td>3.0</td>\n",
       "      <td>2021-11-16 01:41:00</td>\n",
       "      <td>WALNUT HILLS</td>\n",
       "      <td>ABNORMAL BREATHING</td>\n",
       "    </tr>\n",
       "    <tr>\n",
       "      <th>1</th>\n",
       "      <td>CFD211116000123</td>\n",
       "      <td>6.0</td>\n",
       "      <td>2021-11-16 01:29:00</td>\n",
       "      <td>ROSELAWN</td>\n",
       "      <td>NOT ALERT</td>\n",
       "    </tr>\n",
       "    <tr>\n",
       "      <th>2</th>\n",
       "      <td>CFD211116000120</td>\n",
       "      <td>5.0</td>\n",
       "      <td>2021-11-16 01:12:00</td>\n",
       "      <td>ROSELAWN</td>\n",
       "      <td>PUBLIC ASSIST (NO INJURIES AND NO PRIORITY SYM...</td>\n",
       "    </tr>\n",
       "    <tr>\n",
       "      <th>3</th>\n",
       "      <td>CFD211116000118</td>\n",
       "      <td>4.0</td>\n",
       "      <td>2021-11-16 01:07:00</td>\n",
       "      <td>WINTON HILLS</td>\n",
       "      <td>ALERT WITH ABNORMAL BREATHING</td>\n",
       "    </tr>\n",
       "    <tr>\n",
       "      <th>4</th>\n",
       "      <td>CFD211116000115</td>\n",
       "      <td>2.0</td>\n",
       "      <td>2021-11-16 01:02:00</td>\n",
       "      <td>DOWNTOWN</td>\n",
       "      <td>POSSIBLY DANGEROUS BODY AREA</td>\n",
       "    </tr>\n",
       "  </tbody>\n",
       "</table>\n",
       "</div>"
      ],
      "text/plain": [
       "      EVENT_NUMBER  ARRIVAL_DURATION CREATE_TIME_INCIDENT  NEIGHBORHOOD  \\\n",
       "0  CFD211116000125               3.0  2021-11-16 01:41:00  WALNUT HILLS   \n",
       "1  CFD211116000123               6.0  2021-11-16 01:29:00      ROSELAWN   \n",
       "2  CFD211116000120               5.0  2021-11-16 01:12:00      ROSELAWN   \n",
       "3  CFD211116000118               4.0  2021-11-16 01:07:00  WINTON HILLS   \n",
       "4  CFD211116000115               2.0  2021-11-16 01:02:00      DOWNTOWN   \n",
       "\n",
       "                                  INCIDENT_TYPE_DESC  \n",
       "0                                 ABNORMAL BREATHING  \n",
       "1                                          NOT ALERT  \n",
       "2  PUBLIC ASSIST (NO INJURIES AND NO PRIORITY SYM...  \n",
       "3                      ALERT WITH ABNORMAL BREATHING  \n",
       "4                       POSSIBLY DANGEROUS BODY AREA  "
      ]
     },
     "execution_count": 28,
     "metadata": {},
     "output_type": "execute_result"
    }
   ],
   "source": [
    "# check if the tables are correctly loaded into the database\n",
    "\n",
    "pd.read_sql_query('select * from incidents_time_duration', con=engine).head()"
   ]
  },
  {
   "cell_type": "code",
   "execution_count": null,
   "id": "5137c9ee",
   "metadata": {},
   "outputs": [],
   "source": []
  }
 ],
 "metadata": {
  "kernelspec": {
   "display_name": "Python 3",
   "language": "python",
   "name": "python3"
  },
  "language_info": {
   "codemirror_mode": {
    "name": "ipython",
    "version": 3
   },
   "file_extension": ".py",
   "mimetype": "text/x-python",
   "name": "python",
   "nbconvert_exporter": "python",
   "pygments_lexer": "ipython3",
   "version": "3.8.8"
  }
 },
 "nbformat": 4,
 "nbformat_minor": 5
}
